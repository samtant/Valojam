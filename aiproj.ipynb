{
 "cells": [
  {
   "cell_type": "code",
   "execution_count": 1,
   "id": "7c294346",
   "metadata": {
    "scrolled": false
   },
   "outputs": [
    {
     "name": "stdout",
     "output_type": "stream",
     "text": [
      "For gradual improvement, you need to get a KD higher than  1.458692342637206\n"
     ]
    },
    {
     "data": {
      "image/png": "[encoded data removed]",
      "text/plain": [
       "<Figure size 640x480 with 1 Axes>"
      ]
     },
     "metadata": {},
     "output_type": "display_data"
    }
   ],
   "source": [
    "from selenium import webdriver\n",
    "from selenium.webdriver.common.keys import Keys\n",
    "import time\n",
    "from selenium.webdriver.common.by import By\n",
    "from selenium.webdriver.support.ui import WebDriverWait\n",
    "from selenium.webdriver.support import expected_conditions as EC\n",
    "import numpy as np\n",
    "import matplotlib.pyplot as plt\n",
    "from selenium.webdriver.edge.service import Service\n",
    "from sklearn.linear_model import LinearRegression\n",
    "from sklearn.model_selection import train_test_split\n",
    "\n",
    "usernameinput = input(str(\"Enter Your IGN-\"))\n",
    "kde = []\n",
    "kdf = []\n",
    "uwe = 'Perfect'\n",
    "\n",
    "s=Service(\"C:\\Program Files (x86)\\chromedriver.exe\")     #used to remove DeprecationWarning\n",
    "driver = webdriver.Chrome(service=s)\n",
    "\n",
    "driver.get(\"https://www.valking.gg/\")\n",
    "\n",
    "search = driver.find_element(\"name\", \"username\")\n",
    "search.send_keys(usernameinput)\n",
    "search.send_keys(Keys.RETURN)\n",
    "\n",
    "time.sleep(1)\n",
    "\n",
    "link = driver.find_element(By.CLASS_NAME, \"showMoreText\")\n",
    "link.click()\n",
    "time.sleep(2)\n",
    "link = driver.find_element(By.CLASS_NAME, \"showMoreText\")\n",
    "link.click()\n",
    "time.sleep(2)\n",
    "link = driver.find_element(By.CLASS_NAME, \"showMoreText\")\n",
    "link.click()\n",
    "\n",
    "try:\n",
    "    main = WebDriverWait(driver, 10).until(\n",
    "        EC.presence_of_element_located((By.CLASS_NAME, \"main\"))\n",
    "    )\n",
    "    \n",
    "    outer = driver.find_elements(By.TAG_NAME, \"div\")\n",
    "    for div in outer:\n",
    "        BKDs = driver.find_elements(By.CLASS_NAME, \"historyKDAAVGAmount\")      \n",
    "    for i in BKDs:\n",
    "        kde.append(i.text)\n",
    "    if uwe in kde:\n",
    "        kde.remove('Perfect') #removing alphanumeric elements\n",
    "                              \n",
    "    for w in kde:\n",
    "        kdf.append(float(w))\n",
    "    yax = []\n",
    "    nlm = len(kdf)\n",
    "    for i in range(0, nlm):\n",
    "        yax.append(i)         \n",
    "    #print(yax)\n",
    "    #print(kdf)\n",
    "    \n",
    "    yaxh = np.array(yax)\n",
    "    w = yaxh.reshape(-1, 1)\n",
    "    \n",
    "    X_train, X_test, y_train, y_test = train_test_split(w, kdf, train_size=.8, random_state=1) #80% data is for training\n",
    "    \n",
    "    regressor = LinearRegression()              #using linear regression for prediciton of KD with respect to the trend\n",
    "    regressor.fit(X_train, y_train)\n",
    "    y_pred = regressor.predict(X_test)\n",
    "    \n",
    "    Pred_KD= regressor.predict([[len(yax)+1]])           #predicting the KD for the next match\n",
    "    print(\"For gradual improvement, you need to get a KD higher than \",Pred_KD[0])\n",
    "\n",
    "    coef = np.polyfit(yax,kdf,1)\n",
    "    poly1d_fn = np.poly1d(coef)\n",
    "    plt.plot(yax,kdf, 'ro', yax, poly1d_fn(yax), '--k')            #plotting graph to display insights\n",
    "\n",
    "    \n",
    "    \n",
    "    \n",
    "    \n",
    "    \n",
    "finally:\n",
    "    driver.quit()"
   ]
  },
  {
   "cell_type": "code",
   "execution_count": null,
   "id": "df9c73ec",
   "metadata": {},
   "outputs": [],
   "source": []
  }
 ],
 "metadata": {
  "kernelspec": {
   "display_name": "Python 3.10.6 64-bit",
   "language": "python",
   "name": "python3"
  },
  "language_info": {
   "codemirror_mode": {
    "name": "ipython",
    "version": 3
   },
   "file_extension": ".py",
   "mimetype": "text/x-python",
   "name": "python",
   "nbconvert_exporter": "python",
   "pygments_lexer": "ipython3",
   "version": "3.10.6"
  },
  "vscode": {
   "interpreter": {
    "hash": "db8b10ecb822cc6096590dec53b4a0723a8b146f016e4d151fb72d29e15390ae"
   }
  }
 },
 "nbformat": 4,
 "nbformat_minor": 5
}
